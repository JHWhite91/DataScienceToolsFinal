{
 "cells": [
  {
   "cell_type": "markdown",
   "id": "94a46fd1-e5d9-47c3-abea-14cb9fda6d05",
   "metadata": {},
   "source": [
    "# Data Science Tools and Ecosystem"
   ]
  },
  {
   "cell_type": "markdown",
   "id": "148a4d67-3b01-4599-8c22-6f34d0cd022c",
   "metadata": {},
   "source": [
    "In this notebook, Data Science Tools and Ecosystem are summarized."
   ]
  },
  {
   "cell_type": "markdown",
   "id": "f7c40d91-f41f-4e83-a89b-53a2f795fc1c",
   "metadata": {},
   "source": [
    "**Objectives:**\n",
    "- List popular languages for Data Science\n",
    "- List commonly used libraries in Data Science\n",
    "- List Data Science tools\n",
    "- Provide examples of arithmetic expressions in Python"
   ]
  },
  {
   "cell_type": "markdown",
   "id": "d07088b2-0fd3-42a9-9c5d-d406a0ef16ab",
   "metadata": {},
   "source": [
    "Some of the popular languages that Data Scientists use are:\n",
    "1. Python\n",
    "2. R\n",
    "3. SQL\n",
    "4. Scala\n",
    "5. Java\n",
    "6. C++\n",
    "7. Julia"
   ]
  },
  {
   "cell_type": "markdown",
   "id": "62e22fc8-fc23-4f09-81f4-6f2a21f7a70e",
   "metadata": {},
   "source": [
    "Some of the commonly used libraries used by Data Scientists include:\n",
    "1. Python - Pandas\n",
    "2. Python - NumPy\n",
    "3. Python - Matplotlib\n",
    "4. Scala - Vegas\n",
    "5. Scala - BigDL\n",
    "6. R - ggplot2"
   ]
  },
  {
   "cell_type": "markdown",
   "id": "69ca3026-d3a0-4863-83fe-ecc41f2d12e9",
   "metadata": {},
   "source": [
    "| Data Science Tools |\n",
    "| -------------------|\n",
    "| Jupyter |\n",
    "| RStudio |\n",
    "| Spyder |"
   ]
  },
  {
   "cell_type": "markdown",
   "id": "21970b11-9a56-46ca-9faa-633ff10241e9",
   "metadata": {},
   "source": [
    "### Below are a few examples of evaluating arithmetic expressions in Python"
   ]
  },
  {
   "cell_type": "code",
   "execution_count": 1,
   "id": "4cc28577-1c57-4306-9f7f-57cefa6e3ec2",
   "metadata": {},
   "outputs": [
    {
     "data": {
      "text/plain": [
       "17"
      ]
     },
     "execution_count": 1,
     "metadata": {},
     "output_type": "execute_result"
    }
   ],
   "source": [
    "#  This a simple arithmetic expression to mutiply then add integers\n",
    "(3*4)+5"
   ]
  },
  {
   "cell_type": "code",
   "execution_count": 12,
   "id": "a1a7dec5-ddf0-4d99-bd99-56744eddb452",
   "metadata": {},
   "outputs": [
    {
     "name": "stdout",
     "output_type": "stream",
     "text": [
      "3  Hours and  20  Minutes\n"
     ]
    }
   ],
   "source": [
    "# This will convert 200 minutes to hours\n",
    "print(200//60,  \" Hours and \", 200%60, \" Minutes\")"
   ]
  },
  {
   "cell_type": "markdown",
   "id": "c3e6da80-5bb6-4145-8cab-54e2ffd8a11b",
   "metadata": {},
   "source": [
    "## Author\n",
    "James White"
   ]
  }
 ],
 "metadata": {
  "kernelspec": {
   "display_name": "Python 3 (ipykernel)",
   "language": "python",
   "name": "python3"
  },
  "language_info": {
   "codemirror_mode": {
    "name": "ipython",
    "version": 3
   },
   "file_extension": ".py",
   "mimetype": "text/x-python",
   "name": "python",
   "nbconvert_exporter": "python",
   "pygments_lexer": "ipython3",
   "version": "3.10.18"
  }
 },
 "nbformat": 4,
 "nbformat_minor": 5
}
